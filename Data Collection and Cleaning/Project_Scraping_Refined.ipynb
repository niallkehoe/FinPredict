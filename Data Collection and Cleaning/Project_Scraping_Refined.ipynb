{
  "nbformat": 4,
  "nbformat_minor": 0,
  "metadata": {
    "colab": {
      "provenance": []
    },
    "kernelspec": {
      "name": "python3",
      "display_name": "Python 3"
    },
    "language_info": {
      "name": "python"
    }
  },
  "cells": [
    {
      "cell_type": "code",
      "execution_count": 1,
      "metadata": {
        "id": "Q5M8W9XekN5e"
      },
      "outputs": [],
      "source": [
        "import time\n",
        "import requests\n",
        "from bs4 import BeautifulSoup\n",
        "import pandas as pd\n",
        "\n",
        "PERIOD_DELTA = 7948800\n",
        "PERIOD_STOP  = 1519516800\n",
        "\n",
        "def findDataforCompany(ticker):\n",
        "  totalData = []\n",
        "\n",
        "  period1 = 1669334400\n",
        "  period2 = 1677283200\n",
        "\n",
        "  while period1 >= PERIOD_STOP:\n",
        "    url = \"https://finance.yahoo.com/quote/\"+str(ticker)+\"/history?period1=\"+str(period1)+\"&period2=\"+str(period2)+\"&interval=1d&filter=history&frequency=1d&includeAdjustedClose=true#:~:text=Currency%20in%20USD-,Download,-Date\"\n",
        "    r = requests.get(url,headers={\"User-Agent\":\"Mozilla/5.0\"})\n",
        "    soup = BeautifulSoup(r.text, \"html.parser\")\n",
        "\n",
        "    rows = soup.find(\"table\").find(\"tbody\").find_all(\"tr\")\n",
        "\n",
        "    for rowNo in range(0,len(rows)):\n",
        "      cols = rows[rowNo].find_all(\"span\")\n",
        "\n",
        "      dataRow = []\n",
        "      for i in range(0, len(cols)):\n",
        "        dataRow.append(cols[i].text)\n",
        "\n",
        "      totalData.append(dataRow)\n",
        "\n",
        "    period1 -= PERIOD_DELTA\n",
        "    period2 -= PERIOD_DELTA\n",
        "\n",
        "    print(period1)\n",
        "\n",
        "    time.sleep(2)\n",
        "\n",
        "\n",
        "  df = pd.DataFrame(totalData, columns=[\"Date\",\"Open\",\"High\",\"Low\",\"Close\",\"Adj Close\",\"Volume\"])\n",
        "  df.drop(\"Adj Close\", axis = 1, inplace=True)\n",
        "  df.to_csv('/content/'+str(ticker)+'.csv', encoding='utf-8')\n",
        "\n",
        "  return df\n",
        "\n",
        "# findDataforCompany(\"GOOG\")\n",
        "# fbResult"
      ]
    },
    {
      "cell_type": "code",
      "source": [
        "# TECH\n",
        "# tickers = [\"AAPL\",\"MSFT\",\"AMZN\",\"TSLA\",\"NVDA\", \"PYPL\"]\n",
        "for ticker in tickers:\n",
        "  print(ticker)\n",
        "  findDataforCompany(ticker)\n",
        "  print(\" ----- \")\n"
      ],
      "metadata": {
        "id": "DDbSrZE2kl6t"
      },
      "execution_count": null,
      "outputs": []
    },
    {
      "cell_type": "code",
      "source": [
        "# MINING\n",
        "# tickers = [\"GLNCY\", \"BHP\", \"RIO\", \"VALE\", \"CSUAY\", \"NGLOY\", \"ZIJMF\"]\n",
        "tickers = [\"ZIJMF\"]\n",
        "for ticker in tickers:\n",
        "  print(ticker)\n",
        "  findDataforCompany(ticker)\n",
        "  print(\" ----- \")\n"
      ],
      "metadata": {
        "colab": {
          "base_uri": "https://localhost:8080/"
        },
        "id": "RtRZvASekoxw",
        "outputId": "4271c602-ac7d-4936-f0e9-902dad3478ae"
      },
      "execution_count": null,
      "outputs": [
        {
          "output_type": "stream",
          "name": "stdout",
          "text": [
            "ZIJMF\n",
            "1661385600\n",
            "1653436800\n",
            "1645488000\n",
            "1637539200\n",
            "1629590400\n",
            "1621641600\n",
            "1613692800\n",
            "1605744000\n",
            "1597795200\n",
            "1589846400\n",
            "1581897600\n",
            "1573948800\n",
            "1566000000\n",
            "1558051200\n",
            "1550102400\n",
            "1542153600\n",
            "1534204800\n",
            "1526256000\n",
            "1518307200\n",
            " ----- \n"
          ]
        }
      ]
    },
    {
      "cell_type": "code",
      "source": [
        "# retail \n",
        "tickers = [\"WMT\", \"COST\", \"HD\", \"JD\", \"KR\",  \"WBA\", \"BABA\", \"TGT\", \"LOW\"]\n",
        "for ticker in tickers:\n",
        "  print(ticker)\n",
        "  findDataforCompany(ticker)\n",
        "  print(\" ----- \")\n"
      ],
      "metadata": {
        "id": "z2wOEJL6lB_d",
        "colab": {
          "base_uri": "https://localhost:8080/"
        },
        "outputId": "31604abb-4812-4b77-9968-d9006414862f"
      },
      "execution_count": null,
      "outputs": [
        {
          "output_type": "stream",
          "name": "stdout",
          "text": [
            "WMT\n",
            "1661385600\n",
            "1653436800\n",
            "1645488000\n",
            "1637539200\n",
            "1629590400\n",
            "1621641600\n",
            "1613692800\n",
            "1605744000\n",
            "1597795200\n",
            "1589846400\n",
            "1581897600\n",
            "1573948800\n",
            "1566000000\n",
            "1558051200\n",
            "1550102400\n",
            "1542153600\n",
            "1534204800\n",
            "1526256000\n",
            "1518307200\n",
            " ----- \n",
            "COST\n",
            "1661385600\n",
            "1653436800\n",
            "1645488000\n",
            "1637539200\n",
            "1629590400\n",
            "1621641600\n",
            "1613692800\n",
            "1605744000\n",
            "1597795200\n",
            "1589846400\n",
            "1581897600\n",
            "1573948800\n",
            "1566000000\n",
            "1558051200\n",
            "1550102400\n",
            "1542153600\n",
            "1534204800\n",
            "1526256000\n",
            "1518307200\n",
            " ----- \n",
            "HD\n",
            "1661385600\n",
            "1653436800\n",
            "1645488000\n",
            "1637539200\n",
            "1629590400\n",
            "1621641600\n",
            "1613692800\n",
            "1605744000\n",
            "1597795200\n",
            "1589846400\n",
            "1581897600\n",
            "1573948800\n",
            "1566000000\n",
            "1558051200\n",
            "1550102400\n",
            "1542153600\n",
            "1534204800\n",
            "1526256000\n",
            "1518307200\n",
            " ----- \n",
            "JD\n",
            "1661385600\n",
            "1653436800\n",
            "1645488000\n",
            "1637539200\n",
            "1629590400\n",
            "1621641600\n",
            "1613692800\n",
            "1605744000\n",
            "1597795200\n",
            "1589846400\n",
            "1581897600\n",
            "1573948800\n",
            "1566000000\n",
            "1558051200\n",
            "1550102400\n",
            "1542153600\n",
            "1534204800\n",
            "1526256000\n",
            "1518307200\n",
            " ----- \n",
            "KR\n",
            "1661385600\n",
            "1653436800\n",
            "1645488000\n",
            "1637539200\n"
          ]
        }
      ]
    },
    {
      "cell_type": "code",
      "source": [
        "# construction\n",
        "\n",
        "tickers = [\"LEN\", \"LGIH\", \"DFH\", \"PHM\", \"CAT\", \"CCS\", \"MTH\", \"TOL\", \"DHI\", \"KBH\"]\n",
        "for ticker in tickers:\n",
        "  print(ticker)\n",
        "  findDataforCompany(ticker)\n",
        "  print(\" ----- \")\n"
      ],
      "metadata": {
        "id": "1VMlf9Xpmvcp"
      },
      "execution_count": null,
      "outputs": []
    },
    {
      "cell_type": "code",
      "source": [
        "# cars\n",
        "\n",
        "tickers = [\"TM\", \"BYDDF\", \"VWAGY\", \"MBGYY\", \"MBWYY\", \"STLA\", \"GM\", \"RACE\", \"F\", \"HMC\"]\n",
        "for ticker in tickers:\n",
        "  print(ticker)\n",
        "  findDataforCompany(ticker)\n",
        "  print(\" ----- \")\n"
      ],
      "metadata": {
        "id": "71omM0ILm2wN"
      },
      "execution_count": null,
      "outputs": []
    }
  ]
}